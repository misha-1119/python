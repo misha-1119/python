{
 "cells": [
  {
   "cell_type": "code",
   "execution_count": 20,
   "metadata": {},
   "outputs": [],
   "source": [
    "from datetime import datetime\n",
    "function_calls = []"
   ]
  },
  {
   "cell_type": "code",
   "execution_count": 21,
   "metadata": {},
   "outputs": [],
   "source": [
    "def logger(func):\n",
    "    def wrapper(*args, **kwargs):\n",
    "        result = func(*args, **kwargs)\n",
    "        call_time = datetime.now()\n",
    "        function_name = func.__name__\n",
    "        arguments = (args, kwargs)\n",
    "        call_info = (call_time, function_name, arguments, result)\n",
    "        function_calls.append(call_info)\n",
    "        return result\n",
    "    return wrapper"
   ]
  },
  {
   "cell_type": "code",
   "execution_count": 22,
   "metadata": {},
   "outputs": [],
   "source": [
    "@logger\n",
    "def multiply(a, b):\n",
    "    return a * b\n"
   ]
  },
  {
   "cell_type": "code",
   "execution_count": 23,
   "metadata": {},
   "outputs": [
    {
     "data": {
      "text/plain": [
       "54"
      ]
     },
     "execution_count": 23,
     "metadata": {},
     "output_type": "execute_result"
    }
   ],
   "source": [
    "# Виклик функцій з декоратором\n",
    "multiply(8, 4)\n",
    "multiply(9, 6)\n"
   ]
  },
  {
   "cell_type": "code",
   "execution_count": 24,
   "metadata": {},
   "outputs": [],
   "source": [
    "# Генератор для перегляду журналу викликів\n",
    "def get_logs():\n",
    "    for call in function_calls:\n",
    "        yield call"
   ]
  },
  {
   "cell_type": "code",
   "execution_count": 25,
   "metadata": {},
   "outputs": [
    {
     "name": "stdout",
     "output_type": "stream",
     "text": [
      "(datetime.datetime(2023, 10, 17, 6, 31, 53, 999785), 'multiply', ((8, 4), {}), 32)\n",
      "(datetime.datetime(2023, 10, 17, 6, 31, 53, 999835), 'multiply', ((9, 6), {}), 54)\n"
     ]
    }
   ],
   "source": [
    "# Виведемо перший та другий запис\n",
    "log = get_logs()\n",
    "print(next(log))\n",
    "print(next(log))"
   ]
  }
 ],
 "metadata": {
  "kernelspec": {
   "display_name": "Python 3",
   "language": "python",
   "name": "python3"
  },
  "language_info": {
   "codemirror_mode": {
    "name": "ipython",
    "version": 3
   },
   "file_extension": ".py",
   "mimetype": "text/x-python",
   "name": "python",
   "nbconvert_exporter": "python",
   "pygments_lexer": "ipython3",
   "version": "3.10.8"
  }
 },
 "nbformat": 4,
 "nbformat_minor": 2
}
