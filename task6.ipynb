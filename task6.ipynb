{
 "cells": [
  {
   "cell_type": "code",
   "execution_count": 1,
   "metadata": {},
   "outputs": [],
   "source": [
    "from datetime import datetime\n",
    "function_calls = []"
   ]
  },
  {
   "cell_type": "code",
   "execution_count": 2,
   "metadata": {},
   "outputs": [],
   "source": [
    "def logger(func):\n",
    "    def wrapper(*args, **kwargs):\n",
    "        result = func(*args, **kwargs)\n",
    "        call_time = datetime.now()\n",
    "        function_name = func.__name__\n",
    "        arguments = (args, kwargs)\n",
    "        call_info = (call_time, function_name, arguments, result)\n",
    "        function_calls.append(call_info)\n",
    "        return result\n",
    "    return wrapper"
   ]
  },
  {
   "cell_type": "code",
   "execution_count": 3,
   "metadata": {},
   "outputs": [],
   "source": [
    "@logger\n",
    "def multiply(a, b):\n",
    "    return a * b\n"
   ]
  },
  {
   "cell_type": "code",
   "execution_count": 4,
   "metadata": {},
   "outputs": [
    {
     "data": {
      "text/plain": [
       "54"
      ]
     },
     "execution_count": 4,
     "metadata": {},
     "output_type": "execute_result"
    }
   ],
   "source": [
    "# Виклик функцій з декоратором\n",
    "multiply(8, 4)\n",
    "multiply(9, 6)\n"
   ]
  },
  {
   "cell_type": "code",
   "execution_count": 5,
   "metadata": {},
   "outputs": [],
   "source": [
    "# Генератор для перегляду журналу викликів\n",
    "def get_logs():\n",
    "    for call in function_calls:\n",
    "        yield call"
   ]
  },
  {
   "cell_type": "code",
   "execution_count": 6,
   "metadata": {},
   "outputs": [
    {
     "name": "stdout",
     "output_type": "stream",
     "text": [
      "(datetime.datetime(2023, 10, 24, 9, 19, 19, 280554), 'multiply', ((8, 4), {}), 32)\n",
      "(datetime.datetime(2023, 10, 24, 9, 19, 19, 280554), 'multiply', ((9, 6), {}), 54)\n"
     ]
    }
   ],
   "source": [
    "# Виведемо перший та другий запис\n",
    "log = get_logs()\n",
    "print(next(log))\n",
    "print(next(log))"
   ]
  }
 ],
 "metadata": {
  "kernelspec": {
   "display_name": "Python 3",
   "language": "python",
   "name": "python3"
  },
  "language_info": {
   "codemirror_mode": {
    "name": "ipython",
    "version": 3
   },
   "file_extension": ".py",
   "mimetype": "text/x-python",
   "name": "python",
   "nbconvert_exporter": "python",
   "pygments_lexer": "ipython3",
   "version": "3.11.5"
  }
 },
 "nbformat": 4,
 "nbformat_minor": 2
}
