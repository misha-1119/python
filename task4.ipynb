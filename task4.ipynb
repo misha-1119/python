{
 "cells": [
  {
   "cell_type": "code",
   "execution_count": 3,
   "metadata": {},
   "outputs": [
    {
     "name": "stdout",
     "output_type": "stream",
     "text": [
      "Їзда у 2024: 2023-10-3 15:0\n",
      "Їзда у 2025: 2023-10-3 15:0\n",
      "Їзда у 2023: 2023-10-3 15:0\n",
      "Ходьба у 2024: 2023-10-4 19:30\n",
      "Ходьба у 2025: 2023-10-4 19:30\n",
      "Ходьба у 2023: 2023-10-4 19:30\n",
      "Плавання у 2024: 2023-10-5 10:0\n",
      "Плавання у 2025: 2023-10-5 10:0\n",
      "Плавання у 2023: 2023-10-5 10:0\n",
      "Тренування у 2024: 2023-10-3 18:0\n",
      "Тренування у 2025: 2023-10-3 18:0\n",
      "Тренування у 2023: 2023-10-3 18:0\n"
     ]
    }
   ],
   "source": [
    "# Створення списку подій\n",
    "events = [\"Їзда\", \"Ходьба\", \"Плавання\", \"Тренування\"]\n",
    "\n",
    "# Створення словника часу (дата та час) для кожної події\n",
    "# Використовуємо кортеж для представлення дати та часу\n",
    "time_dict = {\n",
    "    \"Їзда\": (2023, 10, 3, 15, 0),  # Рік, місяць, день, година, хвилина\n",
    "    \"Ходьба\": (2023, 10, 4, 19, 30),\n",
    "    \"Плавання\": (2023, 10, 5, 10, 0),\n",
    "    \"Тренування\": (2023, 10, 3, 18, 0)\n",
    "}\n",
    "#Ініціалізація множини років, які ви хочете відвідати:\n",
    "years_to_visit = {2023, 2024, 2025}\n",
    "\n",
    "# Функція для отримання дати та часу для певного року\n",
    "def get_event_date(event, year):\n",
    "    date_time = time_dict.get(event)\n",
    "    if date_time:\n",
    "        year, month, day, hour, minute = date_time\n",
    "        return f\"{year}-{month}-{day} {hour}:{minute}\"\n",
    "    else:\n",
    "        raise ValueError(f\"Подія '{event}' не має інформації про час\")\n",
    "\n",
    "# Обробка виключень для років, які відсутні в словнику часу\n",
    "for event in events:\n",
    "    for year in years_to_visit:\n",
    "        try:\n",
    "            event_date = get_event_date(event, year)\n",
    "            print(f\"{event} у {year}: {event_date}\")\n",
    "        except ValueError as e:\n",
    "            print(e)"
   ]
  }
 ],
 "metadata": {
  "kernelspec": {
   "display_name": "Python 3",
   "language": "python",
   "name": "python3"
  },
  "language_info": {
   "codemirror_mode": {
    "name": "ipython",
    "version": 3
   },
   "file_extension": ".py",
   "mimetype": "text/x-python",
   "name": "python",
   "nbconvert_exporter": "python",
   "pygments_lexer": "ipython3",
   "version": "3.10.8"
  },
  "orig_nbformat": 4
 },
 "nbformat": 4,
 "nbformat_minor": 2
}
