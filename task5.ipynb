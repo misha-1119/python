{
 "cells": [
  {
   "cell_type": "code",
   "execution_count": null,
   "metadata": {},
   "outputs": [],
   "source": [
    "class Writer:\n",
    "    @classmethod\n",
    "    def write(cls, data, path=\"data.csv\"):\n",
    "        with open(path, 'w') as f:\n",
    "            f.write(data)\n",
    "\n",
    "    @classmethod\n",
    "    def read(cls, path=\"data.csv\"):\n",
    "        with open(path, 'r') as f:\n",
    "            return f.read()\n",
    "\n"
   ]
  }
 ],
 "metadata": {
  "language_info": {
   "name": "python"
  }
 },
 "nbformat": 4,
 "nbformat_minor": 2
}
